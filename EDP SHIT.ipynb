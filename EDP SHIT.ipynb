{
 "cells": [
  {
   "cell_type": "markdown",
   "id": "ac079202-65b0-4a0b-8b64-f8d8eb63a02f",
   "metadata": {},
   "source": [
    "# EDP\n"
   ]
  },
  {
   "cell_type": "code",
   "execution_count": 11,
   "id": "077ec3e9-0be0-46e0-b8e1-5692f676e4c5",
   "metadata": {},
   "outputs": [],
   "source": [
    "import numpy as np\n",
    "import matplotlib.pyplot as plt\n",
    "import sympy as sp"
   ]
  },
  {
   "cell_type": "code",
   "execution_count": 144,
   "id": "2d0d338f-66e0-450b-b430-1d3571d56f26",
   "metadata": {},
   "outputs": [
    {
     "data": {
      "text/plain": [
       "array([[0, A, B, C, D, 0],\n",
       "       [0, A, B, C, D, 0],\n",
       "       [0, A, B, C, D, 0],\n",
       "       [0, A, B, C, D, 0],\n",
       "       [0, A, B, C, D, 0],\n",
       "       [15.0, 30, 30, 30, 30, 15.0]], dtype=object)"
      ]
     },
     "execution_count": 144,
     "metadata": {},
     "output_type": "execute_result"
    }
   ],
   "source": [
    "n = 6\n",
    "L = 0\n",
    "Do = 30\n",
    "R = 0\n",
    "sp.var(\"A\")\n",
    "sp.var(\"B\")\n",
    "sp.var(\"C\")\n",
    "sp.var(\"D\")\n",
    "\n",
    "grid = np.zeros((n,n),dtype = object)\n",
    "\n",
    "for i in range(n):\n",
    "    grid[i,0] = L\n",
    "    grid[-1,i] = Do\n",
    "    grid[i,-1] = R\n",
    "for i in range(5):\n",
    "    grid[i,1] = A\n",
    "    grid[i,2] = B\n",
    "    grid[i,3] = C\n",
    "    grid[i,4] = D\n",
    "\n",
    "grid[n-1,0] = (grid[n-2,0] + grid[n-1,1])/2\n",
    "grid[n-1,n-1] = (grid[n-1,n-2] + grid[n-2,-1])/2\n",
    "\n",
    "\n",
    "\n",
    "grid"
   ]
  },
  {
   "cell_type": "code",
   "execution_count": 146,
   "id": "d0337da2-0672-4c07-b730-1bea73624977",
   "metadata": {},
   "outputs": [],
   "source": [
    "puntos1 = []\n",
    "puntos2 = []\n",
    "puntos3 = []\n",
    "puntos4 = []\n",
    "puntos5 = []\n",
    "for i in range(4):\n",
    "    U1 = (grid[4,2+i] - 2*grid[4,1+i] + grid[4,0+i])/16\n",
    "    U2 = (grid[3,2+i] - 2*grid[3,1+i] + grid[3,0+i])/16\n",
    "    U3 = (grid[2,2+i] - 2*grid[2,1+i] + grid[2,0+i])/16\n",
    "    U4 = (grid[1,2+i] - 2*grid[1,1+i] + grid[1,0+i])/16\n",
    "    U5 = (grid[0,2+i] - 2*grid[0,1+i] + grid[0,0+i])/16\n",
    "    puntos1.append(U1)\n",
    "    puntos2.append(U2)\n",
    "    puntos3.append(U3)\n",
    "    puntos4.append(U4)\n",
    "    puntos5.append(U5)\n",
    "\n"
   ]
  },
  {
   "cell_type": "code",
   "execution_count": 148,
   "id": "13ee192c-0e90-4652-9a58-fb02f856f9f9",
   "metadata": {},
   "outputs": [
    {
     "data": {
      "text/plain": [
       "[-A/8 + B/16, A/16 - B/8 + C/16, B/16 - C/8 + D/16, C/16 - D/8]"
      ]
     },
     "execution_count": 148,
     "metadata": {},
     "output_type": "execute_result"
    }
   ],
   "source": [
    "puntos1"
   ]
  },
  {
   "cell_type": "code",
   "execution_count": 150,
   "id": "3f7e65e4-1d03-449c-8a9a-1891862f9da5",
   "metadata": {},
   "outputs": [
    {
     "data": {
      "text/plain": [
       "array([[-A/8 + B/16],\n",
       "       [A/16 - B/8 + C/16],\n",
       "       [B/16 - C/8 + D/16],\n",
       "       [C/16 - D/8]], dtype=object)"
      ]
     },
     "execution_count": 150,
     "metadata": {},
     "output_type": "execute_result"
    }
   ],
   "source": [
    "sistema1 = np.array([\n",
    "    [puntos1[0]],\n",
    "    [puntos1[1]],\n",
    "    [puntos1[2]],\n",
    "    [puntos1[3]],\n",
    "])\n",
    "sistema1"
   ]
  },
  {
   "cell_type": "code",
   "execution_count": 154,
   "id": "d4aa0720-2fc1-4de1-8ff9-700dbcca3596",
   "metadata": {},
   "outputs": [
    {
     "name": "stdout",
     "output_type": "stream",
     "text": [
      "[[0.]\n",
      " [0.]\n",
      " [0.]\n",
      " [0.]]\n"
     ]
    }
   ],
   "source": [
    "import numpy as np\n",
    "\n",
    "var1 = np.array([\n",
    "    [-1/8, 1/16, 0, 0],\n",
    "    [1/16, -1/8, 1/16, 0],\n",
    "    [0, 1/16, -1/8, 1/16],\n",
    "    [0, 0, 1/16, -1/8],\n",
    "])\n",
    "\n",
    "cons1 = np.array([\n",
    "    [0],\n",
    "    [0],\n",
    "    [0],\n",
    "    [0],\n",
    "])\n",
    "\n",
    "#sistema de ecuaciones\n",
    "sol1, residuals, rank, s = np.linalg.lstsq(var1, cons1, rcond=None)\n",
    "print(sol1)\n"
   ]
  },
  {
   "cell_type": "code",
   "execution_count": null,
   "id": "4d60f274-00d0-4fe8-8bf9-fc1765808cbb",
   "metadata": {},
   "outputs": [],
   "source": []
  },
  {
   "cell_type": "code",
   "execution_count": null,
   "id": "4731d63d-7576-4bc9-8f76-87ecae15377a",
   "metadata": {},
   "outputs": [],
   "source": []
  }
 ],
 "metadata": {
  "kernelspec": {
   "display_name": "Python 3 (ipykernel)",
   "language": "python",
   "name": "python3"
  },
  "language_info": {
   "codemirror_mode": {
    "name": "ipython",
    "version": 3
   },
   "file_extension": ".py",
   "mimetype": "text/x-python",
   "name": "python",
   "nbconvert_exporter": "python",
   "pygments_lexer": "ipython3",
   "version": "3.12.4"
  }
 },
 "nbformat": 4,
 "nbformat_minor": 5
}
